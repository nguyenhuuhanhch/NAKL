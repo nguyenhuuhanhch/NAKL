{
  "nbformat": 4,
  "nbformat_minor": 0,
  "metadata": {
    "colab": {
      "provenance": [],
      "authorship_tag": "ABX9TyP0VhFBKYBzeqMGI3fOEFlk",
      "include_colab_link": true
    },
    "kernelspec": {
      "name": "python3",
      "display_name": "Python 3"
    },
    "language_info": {
      "name": "python"
    }
  },
  "cells": [
    {
      "cell_type": "markdown",
      "metadata": {
        "id": "view-in-github",
        "colab_type": "text"
      },
      "source": [
        "<a href=\"https://colab.research.google.com/github/nguyenhuuhanhch/NAKL/blob/master/Untitled0.ipynb\" target=\"_parent\"><img src=\"https://colab.research.google.com/assets/colab-badge.svg\" alt=\"Open In Colab\"/></a>"
      ]
    },
    {
      "cell_type": "code",
      "execution_count": 6,
      "metadata": {
        "colab": {
          "base_uri": "https://localhost:8080/"
        },
        "id": "GgzPMzdFreR9",
        "outputId": "98b5c964-bfd6-4d0e-8c70-cf3b3d7247c8"
      },
      "outputs": [
        {
          "output_type": "stream",
          "name": "stdout",
          "text": [
            "Hello\n",
            "6000\n"
          ]
        }
      ],
      "source": [
        "print (\"Hello\")\n",
        "def TinhTong(a,b):\n",
        "  return a+b\n",
        "\n",
        "kq= TinhTong(2000,4000)\n",
        "print(kq)\n",
        "\n",
        "\n"
      ]
    }
  ]
}